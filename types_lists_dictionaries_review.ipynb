{
  "nbformat": 4,
  "nbformat_minor": 0,
  "metadata": {
    "colab": {
      "name": "types_lists_dictionaries_review.ipynb",
      "version": "0.3.2",
      "provenance": []
    },
    "kernelspec": {
      "display_name": "Python [default]",
      "language": "python",
      "name": "python3"
    },
    "accelerator": "GPU"
  },
  "cells": [
    {
      "cell_type": "markdown",
      "metadata": {
        "id": "view-in-github",
        "colab_type": "text"
      },
      "source": [
        "[View in Colaboratory](https://colab.research.google.com/github/eyemoore/datascience5k/blob/master/types_lists_dictionaries_review.ipynb)"
      ]
    },
    {
      "metadata": {
        "id": "We-67CsYVQga",
        "colab_type": "text"
      },
      "cell_type": "markdown",
      "source": [
        "## Review of Python Types, Lists, and Dictionaries\n",
        "\n",
        "_Author: Kiefer Katovich (San Francisco)_\n",
        "\n",
        "---\n"
      ]
    },
    {
      "metadata": {
        "id": "zEAg9dAiVQgg",
        "colab_type": "code",
        "colab": {}
      },
      "cell_type": "code",
      "source": [
        "# Enter Student names here:\n",
        "student_names = ['darryl','tom','dennis','joe','alex','jeremy', 'christian','mariel','david','dan']\n",
        "student"
      ],
      "execution_count": 0,
      "outputs": []
    },
    {
      "metadata": {
        "id": "5K-GC03WVQg0",
        "colab_type": "text"
      },
      "cell_type": "markdown",
      "source": [
        "---\n",
        "\n",
        "### 1) What are the types of the following variables?"
      ]
    },
    {
      "metadata": {
        "id": "FNavuLkBVQg4",
        "colab_type": "code",
        "colab": {}
      },
      "cell_type": "code",
      "source": [
        "a = 1\n",
        "b = 2.6\n",
        "c = [1,2,3,5,6]\n",
        "d = {'kiefer':'katovich', 'dave':'yerrington'}\n",
        "e = ('one', 'two', 'three')\n",
        "f = {1:{'key':'value'}, 2:{'key2':'value2'}}\n",
        "g = True\n",
        "h = False\n",
        "i = 'integer'"
      ],
      "execution_count": 0,
      "outputs": []
    },
    {
      "metadata": {
        "id": "IVW5QE1RVQhO",
        "colab_type": "code",
        "colab": {}
      },
      "cell_type": "code",
      "source": [
        "# A:"
      ],
      "execution_count": 0,
      "outputs": []
    },
    {
      "metadata": {
        "id": "3oFy_YuIVQhW",
        "colab_type": "text"
      },
      "cell_type": "markdown",
      "source": [
        "---\n",
        "\n",
        "### 3) Print the `student_names` list."
      ]
    },
    {
      "metadata": {
        "id": "Olt7DhuoVQhW",
        "colab_type": "code",
        "colab": {}
      },
      "cell_type": "code",
      "source": [
        "# A:"
      ],
      "execution_count": 0,
      "outputs": []
    },
    {
      "metadata": {
        "id": "GZBbtqZ0VQhg",
        "colab_type": "text"
      },
      "cell_type": "markdown",
      "source": [
        "---\n",
        "\n",
        "### 4) Print the names of the first and last students on the list."
      ]
    },
    {
      "metadata": {
        "id": "UWc4VXVoVQhm",
        "colab_type": "code",
        "colab": {}
      },
      "cell_type": "code",
      "source": [
        "# A:"
      ],
      "execution_count": 0,
      "outputs": []
    },
    {
      "metadata": {
        "id": "xRlW73N2VQh4",
        "colab_type": "text"
      },
      "cell_type": "markdown",
      "source": [
        "---\n",
        "\n",
        "### 5) Print the first five names in the `student_names` list."
      ]
    },
    {
      "metadata": {
        "id": "2MRlfPhUVQh6",
        "colab_type": "code",
        "colab": {},
        "outputId": "f8dc623b-9719-46be-d457-c4274e9c2a0c"
      },
      "cell_type": "code",
      "source": [
        "# A:"
      ],
      "execution_count": 0,
      "outputs": [
        {
          "output_type": "stream",
          "text": [
            "first: a last: ccc\n"
          ],
          "name": "stdout"
        }
      ]
    },
    {
      "metadata": {
        "id": "zowWXXWNVQh-",
        "colab_type": "text"
      },
      "cell_type": "markdown",
      "source": [
        "---\n",
        "\n",
        "### 6) Combine the ninth and 10th student names into a single string, separated by a space. Assign that string to a variable."
      ]
    },
    {
      "metadata": {
        "id": "HHfLT6LIVQh-",
        "colab_type": "code",
        "colab": {}
      },
      "cell_type": "code",
      "source": [
        "# A:"
      ],
      "execution_count": 0,
      "outputs": []
    },
    {
      "metadata": {
        "id": "HAhfhwvnVQiE",
        "colab_type": "text"
      },
      "cell_type": "markdown",
      "source": [
        "---\n",
        "\n",
        "### 7) Append an animal to the list of animals."
      ]
    },
    {
      "metadata": {
        "id": "dxoizt6tVQiE",
        "colab_type": "code",
        "colab": {}
      },
      "cell_type": "code",
      "source": [
        "animals = ['duck', 'rat', 'boar', 'slug', 'mammoth', 'gazelle']"
      ],
      "execution_count": 0,
      "outputs": []
    },
    {
      "metadata": {
        "id": "Ee8JN_-bVQiK",
        "colab_type": "code",
        "colab": {}
      },
      "cell_type": "code",
      "source": [
        "# A:"
      ],
      "execution_count": 0,
      "outputs": []
    },
    {
      "metadata": {
        "id": "9D3MS3Y3VQiQ",
        "colab_type": "text"
      },
      "cell_type": "markdown",
      "source": [
        "---\n",
        "\n",
        "### 8) Print the length of the `animals` list."
      ]
    },
    {
      "metadata": {
        "id": "vkn07s3qVQiQ",
        "colab_type": "code",
        "colab": {},
        "collapsed": true
      },
      "cell_type": "code",
      "source": [
        "# A:"
      ],
      "execution_count": 0,
      "outputs": []
    },
    {
      "metadata": {
        "id": "749slbt8VQiW",
        "colab_type": "text"
      },
      "cell_type": "markdown",
      "source": [
        "---\n",
        "\n",
        "### 9) Divide the length of the fifth animal by the second."
      ]
    },
    {
      "metadata": {
        "id": "fzXGsBcaVQiY",
        "colab_type": "code",
        "colab": {},
        "collapsed": true
      },
      "cell_type": "code",
      "source": [
        "# A:"
      ],
      "execution_count": 0,
      "outputs": []
    },
    {
      "metadata": {
        "id": "GTuGkEsuVQie",
        "colab_type": "text"
      },
      "cell_type": "markdown",
      "source": [
        "---\n",
        "\n",
        "### 10) Perform the same division, but ensure the output is a decimal number."
      ]
    },
    {
      "metadata": {
        "id": "8UeWsSUuVQie",
        "colab_type": "code",
        "colab": {},
        "collapsed": true
      },
      "cell_type": "code",
      "source": [
        "# A:"
      ],
      "execution_count": 0,
      "outputs": []
    },
    {
      "metadata": {
        "id": "bn25JaJSVQii",
        "colab_type": "text"
      },
      "cell_type": "markdown",
      "source": [
        "---\n",
        "\n",
        "### 11) Demonstrate two different ways to combine the `animals` list and the `numbers` list."
      ]
    },
    {
      "metadata": {
        "id": "VGnCnKPfVQii",
        "colab_type": "code",
        "colab": {},
        "collapsed": true
      },
      "cell_type": "code",
      "source": [
        "numbers = [0., 0.1, 1., 10., 100., 1000.]"
      ],
      "execution_count": 0,
      "outputs": []
    },
    {
      "metadata": {
        "id": "MLLKshNSVQiw",
        "colab_type": "code",
        "colab": {},
        "collapsed": true
      },
      "cell_type": "code",
      "source": [
        "# A:"
      ],
      "execution_count": 0,
      "outputs": []
    },
    {
      "metadata": {
        "id": "l-_mZ-dmVQiy",
        "colab_type": "text"
      },
      "cell_type": "markdown",
      "source": [
        "---\n",
        "\n",
        "### 12) Remove `'kiefer'` from the list and insert your own name in its place."
      ]
    },
    {
      "metadata": {
        "id": "vKrDlzdXVQiy",
        "colab_type": "code",
        "colab": {},
        "collapsed": true
      },
      "cell_type": "code",
      "source": [
        "names = ['doug', 'billy', 'kiefer', 'kian', 'sam']"
      ],
      "execution_count": 0,
      "outputs": []
    },
    {
      "metadata": {
        "id": "6eBbV8Q-VQi2",
        "colab_type": "code",
        "colab": {},
        "collapsed": true
      },
      "cell_type": "code",
      "source": [
        "# A:"
      ],
      "execution_count": 0,
      "outputs": []
    },
    {
      "metadata": {
        "id": "zeE7gVqOVQi4",
        "colab_type": "text"
      },
      "cell_type": "markdown",
      "source": [
        "---\n",
        "\n",
        "### 13) Sort the following list."
      ]
    },
    {
      "metadata": {
        "id": "525SyE9NVQi4",
        "colab_type": "code",
        "colab": {},
        "collapsed": true
      },
      "cell_type": "code",
      "source": [
        "mix = [ '100', '2', 'flower', 'a']"
      ],
      "execution_count": 0,
      "outputs": []
    },
    {
      "metadata": {
        "id": "LqXTnfeOVQi8",
        "colab_type": "code",
        "colab": {},
        "collapsed": true
      },
      "cell_type": "code",
      "source": [
        "# A:"
      ],
      "execution_count": 0,
      "outputs": []
    },
    {
      "metadata": {
        "id": "qOpK-sreVQjA",
        "colab_type": "text"
      },
      "cell_type": "markdown",
      "source": [
        "---\n",
        "\n",
        "### 14) Manually check whether or not one element of `mix` is greater than another."
      ]
    },
    {
      "metadata": {
        "id": "RpC7hLQuVQjC",
        "colab_type": "code",
        "colab": {},
        "collapsed": true
      },
      "cell_type": "code",
      "source": [
        "# A:"
      ],
      "execution_count": 0,
      "outputs": []
    },
    {
      "metadata": {
        "id": "C9L9N3VmVQjG",
        "colab_type": "text"
      },
      "cell_type": "markdown",
      "source": [
        "---\n",
        "\n",
        "### 15) Find the index of `'a'` in the list."
      ]
    },
    {
      "metadata": {
        "id": "p910tK6oVQjI",
        "colab_type": "code",
        "colab": {},
        "collapsed": true
      },
      "cell_type": "code",
      "source": [
        "# A:"
      ],
      "execution_count": 0,
      "outputs": []
    },
    {
      "metadata": {
        "id": "1FQgpy9LVQjQ",
        "colab_type": "text"
      },
      "cell_type": "markdown",
      "source": [
        "---\n",
        "\n",
        "### 16) Reverse the `mix` list."
      ]
    },
    {
      "metadata": {
        "id": "FFLH1E4fVQjQ",
        "colab_type": "code",
        "colab": {},
        "collapsed": true
      },
      "cell_type": "code",
      "source": [
        "# A:"
      ],
      "execution_count": 0,
      "outputs": []
    },
    {
      "metadata": {
        "id": "Vn6YJCQvVQjU",
        "colab_type": "text"
      },
      "cell_type": "markdown",
      "source": [
        "---\n",
        "\n",
        "### 17) Remove the last element of `mix`  and assign it to a variable."
      ]
    },
    {
      "metadata": {
        "id": "TBDTWAqLVQjY",
        "colab_type": "code",
        "colab": {},
        "collapsed": true
      },
      "cell_type": "code",
      "source": [
        "# A:"
      ],
      "execution_count": 0,
      "outputs": []
    },
    {
      "metadata": {
        "id": "I3LudKCyVQja",
        "colab_type": "text"
      },
      "cell_type": "markdown",
      "source": [
        "---\n",
        "\n",
        "### 18) Count the number of times `0` appears in the following list."
      ]
    },
    {
      "metadata": {
        "id": "EPDDWpFJVQja",
        "colab_type": "code",
        "colab": {},
        "collapsed": true
      },
      "cell_type": "code",
      "source": [
        "binary = [0,1,1,0,1,0,1,1,1,1,0,0,1,0,0,1,0,1,1,0,0,1,1,0,1,1,0,0,0,1,1,1,0,1,0,1]"
      ],
      "execution_count": 0,
      "outputs": []
    },
    {
      "metadata": {
        "id": "GMY4huXMVQjc",
        "colab_type": "code",
        "colab": {},
        "collapsed": true
      },
      "cell_type": "code",
      "source": [
        "# A:"
      ],
      "execution_count": 0,
      "outputs": []
    },
    {
      "metadata": {
        "id": "FquzqZQkVQjg",
        "colab_type": "text"
      },
      "cell_type": "markdown",
      "source": [
        "---\n",
        "\n",
        "### 19) Create an SF (San Francisco) zip code dictionary.\n",
        "\n",
        "With the following key-value pairs:\n",
        "\n",
        "    'sunset':94122\n",
        "    'presidio':94129\n",
        "    'soma':94105\n",
        "    'marina':94123"
      ]
    },
    {
      "metadata": {
        "id": "pCu8scc3VQjg",
        "colab_type": "code",
        "colab": {},
        "collapsed": true
      },
      "cell_type": "code",
      "source": [
        "# A:"
      ],
      "execution_count": 0,
      "outputs": []
    },
    {
      "metadata": {
        "id": "VrIvgl6PVQji",
        "colab_type": "text"
      },
      "cell_type": "markdown",
      "source": [
        "---\n",
        "\n",
        "### 20) Get the zip code for `'soma'` and assign it to a variable."
      ]
    },
    {
      "metadata": {
        "id": "YwP8dMOMVQjk",
        "colab_type": "code",
        "colab": {},
        "collapsed": true
      },
      "cell_type": "code",
      "source": [
        "# A:"
      ],
      "execution_count": 0,
      "outputs": []
    },
    {
      "metadata": {
        "id": "LtZPGNOZVQjo",
        "colab_type": "text"
      },
      "cell_type": "markdown",
      "source": [
        "---\n",
        "\n",
        "### 21) Get the keys out of the dictionary."
      ]
    },
    {
      "metadata": {
        "id": "qczqwskjVQjq",
        "colab_type": "code",
        "colab": {},
        "collapsed": true
      },
      "cell_type": "code",
      "source": [
        "# A:"
      ],
      "execution_count": 0,
      "outputs": []
    },
    {
      "metadata": {
        "id": "nECEa6pzVQjs",
        "colab_type": "text"
      },
      "cell_type": "markdown",
      "source": [
        "---\n",
        "\n",
        "### 22) Get the key-value pairs out of the dictionary as a list of tuples."
      ]
    },
    {
      "metadata": {
        "id": "tXRmL3hPVQju",
        "colab_type": "code",
        "colab": {},
        "collapsed": true
      },
      "cell_type": "code",
      "source": [
        "# A:"
      ],
      "execution_count": 0,
      "outputs": []
    },
    {
      "metadata": {
        "id": "tzEOeK1rVQjw",
        "colab_type": "text"
      },
      "cell_type": "markdown",
      "source": [
        "---\n",
        "\n",
        "### 23) Add The Castro to the dictionary with the zip code 94114."
      ]
    },
    {
      "metadata": {
        "id": "dwtR7zOHVQjw",
        "colab_type": "code",
        "colab": {},
        "collapsed": true
      },
      "cell_type": "code",
      "source": [
        "# A:"
      ],
      "execution_count": 0,
      "outputs": []
    },
    {
      "metadata": {
        "id": "WSUoWkdxVQj6",
        "colab_type": "text"
      },
      "cell_type": "markdown",
      "source": [
        "---\n",
        "\n",
        "### 24) Combine the following smaller dictionary of districts with the SF zip code dictionary."
      ]
    },
    {
      "metadata": {
        "id": "YaIE7mxRVQj6",
        "colab_type": "code",
        "colab": {},
        "collapsed": true
      },
      "cell_type": "code",
      "source": [
        "small = {'outer_richmond':94121, 'dogpatch':94107}"
      ],
      "execution_count": 0,
      "outputs": []
    },
    {
      "metadata": {
        "id": "gC8pvLaxVQj-",
        "colab_type": "code",
        "colab": {},
        "collapsed": true
      },
      "cell_type": "code",
      "source": [
        "# A:"
      ],
      "execution_count": 0,
      "outputs": []
    },
    {
      "metadata": {
        "id": "8Y9kr0fSVQkA",
        "colab_type": "text"
      },
      "cell_type": "markdown",
      "source": [
        "---\n",
        "\n",
        "### 25) Remove the `'sunset'` zip code and assign it to a variable."
      ]
    },
    {
      "metadata": {
        "id": "yFJYGCzjVQkA",
        "colab_type": "code",
        "colab": {},
        "collapsed": true
      },
      "cell_type": "code",
      "source": [
        "# A:"
      ],
      "execution_count": 0,
      "outputs": []
    },
    {
      "metadata": {
        "id": "pnB1gbI0VQkE",
        "colab_type": "text"
      },
      "cell_type": "markdown",
      "source": [
        "---\n",
        "\n",
        "### 26) Check if the `'dogpatch'` is in the dictionary."
      ]
    },
    {
      "metadata": {
        "id": "EuSpLIIpVQkE",
        "colab_type": "code",
        "colab": {},
        "collapsed": true
      },
      "cell_type": "code",
      "source": [
        "# A:"
      ],
      "execution_count": 0,
      "outputs": []
    }
  ]
}